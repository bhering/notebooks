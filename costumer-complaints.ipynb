{
 "cells": [
  {
   "cell_type": "markdown",
   "metadata": {},
   "source": [
    "# Análise de reclamações\n",
    "Buscamos compreender quais são as empresas mais odiadas.\n",
    "\n",
    "Autor: Gabriel Bhering"
   ]
  },
  {
   "cell_type": "markdown",
   "metadata": {},
   "source": [
    "#### Bibliotecas Utilizadas"
   ]
  },
  {
   "cell_type": "code",
   "execution_count": 1,
   "metadata": {
    "collapsed": true
   },
   "outputs": [],
   "source": [
    "from glob import glob\n",
    "import pandas as pd\n",
    "import numpy as np\n",
    "import matplotlib.pyplot as plt\n",
    "from os import path"
   ]
  },
  {
   "cell_type": "markdown",
   "metadata": {},
   "source": [
    "Os dados são provenientes do [kaggle](https://www.kaggle.com/gerosa/procon), e um [script](https://gist.github.com/bhering/d21097f5b125d65fd8c422d81695d7f7) foi rodado para higieniza-los. O que o script faz é remover algumas incoerencias (como traços no campo de CEP), e apagar campos sem dados que estavam preenchidos com `NULL` ou `Nao se aplica`. "
   ]
  },
  {
   "cell_type": "markdown",
   "metadata": {},
   "source": [
    "Todos os .csv da pasta são lidos e compilados em um único dataframe `df`..."
   ]
  },
  {
   "cell_type": "code",
   "execution_count": 2,
   "metadata": {
    "collapsed": true
   },
   "outputs": [],
   "source": [
    "all_files = glob(path.join('./datasets/costumer_complaints',\"*.csv\"))"
   ]
  },
  {
   "cell_type": "code",
   "execution_count": 3,
   "metadata": {
    "collapsed": true
   },
   "outputs": [],
   "source": [
    "df = pd.concat((pd.read_csv(f) for f in all_files))\n",
    "df['CNPJ'] = df['NumeroCNPJ'].map(str) + df['RadicalCNPJ'].map(str)"
   ]
  },
  {
   "cell_type": "code",
   "execution_count": 4,
   "metadata": {
    "collapsed": false
   },
   "outputs": [
    {
     "data": {
      "text/html": [
       "<div>\n",
       "<table border=\"1\" class=\"dataframe\">\n",
       "  <thead>\n",
       "    <tr style=\"text-align: right;\">\n",
       "      <th></th>\n",
       "      <th>AnoCalendario</th>\n",
       "      <th>DataAbertura</th>\n",
       "      <th>strNomeFantasia</th>\n",
       "      <th>Atendida</th>\n",
       "      <th>DescricaoAssunto</th>\n",
       "      <th>DescricaoProblema</th>\n",
       "    </tr>\n",
       "  </thead>\n",
       "  <tbody>\n",
       "    <tr>\n",
       "      <th>0</th>\n",
       "      <td>2012</td>\n",
       "      <td>2009-09-17 10:02:24.000</td>\n",
       "      <td>SAMSUNG</td>\n",
       "      <td>N</td>\n",
       "      <td>Telefone ( Convencional, Celular, Interfone, E...</td>\n",
       "      <td>Garantia (Abrangência, cobertura, etc.)</td>\n",
       "    </tr>\n",
       "    <tr>\n",
       "      <th>1</th>\n",
       "      <td>2012</td>\n",
       "      <td>2009-09-21 09:01:49.000</td>\n",
       "      <td>AMAZON PC</td>\n",
       "      <td>S</td>\n",
       "      <td>Microcomputador / Produtos de Informática</td>\n",
       "      <td>Garantia (Abrangência, cobertura, etc.)</td>\n",
       "    </tr>\n",
       "    <tr>\n",
       "      <th>2</th>\n",
       "      <td>2012</td>\n",
       "      <td>2009-09-22 09:49:56.000</td>\n",
       "      <td>AON AFFINITY DO BRASIL</td>\n",
       "      <td>N</td>\n",
       "      <td>Seguro</td>\n",
       "      <td>Não pagamento de indenização (seguros em geral)</td>\n",
       "    </tr>\n",
       "    <tr>\n",
       "      <th>3</th>\n",
       "      <td>2012</td>\n",
       "      <td>2009-10-23 15:58:49.000</td>\n",
       "      <td>BOM PRECO</td>\n",
       "      <td>N</td>\n",
       "      <td>Microcomputador / Produtos de Informática</td>\n",
       "      <td>Garantia (Abrangência, cobertura, etc.)</td>\n",
       "    </tr>\n",
       "    <tr>\n",
       "      <th>4</th>\n",
       "      <td>2012</td>\n",
       "      <td>2009-05-15 12:33:24.000</td>\n",
       "      <td>SUDAMERIS</td>\n",
       "      <td>N</td>\n",
       "      <td>Financeira</td>\n",
       "      <td>Cobrança indevida.</td>\n",
       "    </tr>\n",
       "    <tr>\n",
       "      <th>5</th>\n",
       "      <td>2012</td>\n",
       "      <td>2010-02-11 16:35:27.000</td>\n",
       "      <td>NaN</td>\n",
       "      <td>S</td>\n",
       "      <td>Empresa de Cobrança</td>\n",
       "      <td>Cobrança indevida.</td>\n",
       "    </tr>\n",
       "    <tr>\n",
       "      <th>6</th>\n",
       "      <td>2012</td>\n",
       "      <td>2010-03-08 12:25:24.000</td>\n",
       "      <td>NaN</td>\n",
       "      <td>S</td>\n",
       "      <td>Telefone ( Convencional, Celular, Interfone, E...</td>\n",
       "      <td>Falta de peca de reposição</td>\n",
       "    </tr>\n",
       "    <tr>\n",
       "      <th>7</th>\n",
       "      <td>2012</td>\n",
       "      <td>2005-08-11 10:16:23.000</td>\n",
       "      <td>SIEMENS CELULARES</td>\n",
       "      <td>N</td>\n",
       "      <td>Telefone ( Convencional, Celular, Interfone, E...</td>\n",
       "      <td>Falta de peca de reposição</td>\n",
       "    </tr>\n",
       "    <tr>\n",
       "      <th>8</th>\n",
       "      <td>2012</td>\n",
       "      <td>2006-11-07 09:07:41.000</td>\n",
       "      <td>LG</td>\n",
       "      <td>S</td>\n",
       "      <td>Televisão / Vídeo Cassete / Filmadora / Video-...</td>\n",
       "      <td>Garantia (Abrangência, cobertura, etc.)</td>\n",
       "    </tr>\n",
       "    <tr>\n",
       "      <th>9</th>\n",
       "      <td>2012</td>\n",
       "      <td>2010-02-18 16:27:20.000</td>\n",
       "      <td>DAKO / GE</td>\n",
       "      <td>S</td>\n",
       "      <td>Fogão e Microondas</td>\n",
       "      <td>Produto com vício</td>\n",
       "    </tr>\n",
       "  </tbody>\n",
       "</table>\n",
       "</div>"
      ],
      "text/plain": [
       "   AnoCalendario             DataAbertura         strNomeFantasia Atendida  \\\n",
       "0           2012  2009-09-17 10:02:24.000                 SAMSUNG        N   \n",
       "1           2012  2009-09-21 09:01:49.000               AMAZON PC        S   \n",
       "2           2012  2009-09-22 09:49:56.000  AON AFFINITY DO BRASIL        N   \n",
       "3           2012  2009-10-23 15:58:49.000               BOM PRECO        N   \n",
       "4           2012  2009-05-15 12:33:24.000               SUDAMERIS        N   \n",
       "5           2012  2010-02-11 16:35:27.000                     NaN        S   \n",
       "6           2012  2010-03-08 12:25:24.000                     NaN        S   \n",
       "7           2012  2005-08-11 10:16:23.000       SIEMENS CELULARES        N   \n",
       "8           2012  2006-11-07 09:07:41.000                      LG        S   \n",
       "9           2012  2010-02-18 16:27:20.000               DAKO / GE        S   \n",
       "\n",
       "                                    DescricaoAssunto  \\\n",
       "0  Telefone ( Convencional, Celular, Interfone, E...   \n",
       "1          Microcomputador / Produtos de Informática   \n",
       "2                                             Seguro   \n",
       "3          Microcomputador / Produtos de Informática   \n",
       "4                                         Financeira   \n",
       "5                                Empresa de Cobrança   \n",
       "6  Telefone ( Convencional, Celular, Interfone, E...   \n",
       "7  Telefone ( Convencional, Celular, Interfone, E...   \n",
       "8  Televisão / Vídeo Cassete / Filmadora / Video-...   \n",
       "9                                 Fogão e Microondas   \n",
       "\n",
       "                                 DescricaoProblema  \n",
       "0          Garantia (Abrangência, cobertura, etc.)  \n",
       "1          Garantia (Abrangência, cobertura, etc.)  \n",
       "2  Não pagamento de indenização (seguros em geral)  \n",
       "3          Garantia (Abrangência, cobertura, etc.)  \n",
       "4                               Cobrança indevida.  \n",
       "5                               Cobrança indevida.  \n",
       "6                       Falta de peca de reposição  \n",
       "7                       Falta de peca de reposição  \n",
       "8          Garantia (Abrangência, cobertura, etc.)  \n",
       "9                                Produto com vício  "
      ]
     },
     "execution_count": 4,
     "metadata": {},
     "output_type": "execute_result"
    }
   ],
   "source": [
    "df[['AnoCalendario', 'DataAbertura', 'strNomeFantasia', 'Atendida', 'DescricaoAssunto', 'DescricaoProblema']][:10]"
   ]
  },
  {
   "cell_type": "code",
   "execution_count": 5,
   "metadata": {
    "collapsed": false
   },
   "outputs": [
    {
     "name": "stdout",
     "output_type": "stream",
     "text": [
      "Total de registros: 603036\n"
     ]
    }
   ],
   "source": [
    "print('Total de registros:', len(df))"
   ]
  },
  {
   "cell_type": "code",
   "execution_count": 6,
   "metadata": {
    "collapsed": false
   },
   "outputs": [
    {
     "name": "stdout",
     "output_type": "stream",
     "text": [
      "Total de empresas: 58254\n"
     ]
    }
   ],
   "source": [
    "print('Total de empresas:', df['CNPJ'].nunique())"
   ]
  },
  {
   "cell_type": "markdown",
   "metadata": {},
   "source": [
    "### Como descrever o quão detestada uma empresa é?\n",
    "Podemos começar simplesmente observando a distribuição das empresas com mais reclamacões:"
   ]
  },
  {
   "cell_type": "code",
   "execution_count": 13,
   "metadata": {
    "collapsed": true
   },
   "outputs": [],
   "source": [
    "lim=20"
   ]
  },
  {
   "cell_type": "code",
   "execution_count": 7,
   "metadata": {
    "collapsed": false
   },
   "outputs": [
    {
     "name": "stdout",
     "output_type": "stream",
     "text": [
      "TELEMAR NORTE LESTE S/A                                  0.015167\n",
      "SAMSUNG ELETRONICA DA AMAZONIA LTDA                      0.012129\n",
      "TNL PCS S/A                                              0.008558\n",
      "CLARO S.A.                                               0.008011\n",
      "CAIXA ECONOMICA FEDERAL                                  0.007658\n",
      "CLARO S/A                                                0.007597\n",
      "ELECTROLUX DO BRASIL S/A                                 0.006975\n",
      "SKY BRASIL SERVICOS LTDA                                 0.006640\n",
      "TELEFONICA BRASIL S/A                                    0.006179\n",
      "TIM CELULAR S/A                                          0.006093\n",
      "VIA VAREJO S/A                                           0.006011\n",
      "DIGIBRAS INDUSTRIA DO BRASIL S/A                         0.005967\n",
      "MOTOROLA INDUSTRIAL LTDA                                 0.005955\n",
      "TIM CELULAR S.A.                                         0.005686\n",
      "MAGAZINE LUIZA S/A                                       0.005610\n",
      "NOKIA DO BRASIL TECNOLOGIA LTDA                          0.005300\n",
      "BV FINANCEIRA SA CREDITO FINANCIAMENTO E INVESTIMENTO    0.005162\n",
      "SKY BRASIL SERVIÇOS LTDA                                 0.005112\n",
      "CARDIF DO BRASIL SEGUROS E GARANTIAS S/A                 0.004920\n",
      "RICARDO ELETRO DIVINOPOLIS LTDA                          0.004847\n",
      "Name: strRazaoSocial, dtype: float64\n",
      "Total: 0.139576340890699\n"
     ]
    }
   ],
   "source": [
    "print(df['strRazaoSocial'].value_counts(normalize=True)[:20])\n",
    "print(\"Total:\", df['strRazaoSocial'].value_counts(normalize=True)[:20].sum())"
   ]
  },
  {
   "cell_type": "markdown",
   "metadata": {},
   "source": [
    "Das 58254 empresas, as 20 empresas com mais reclamações tem 13,9% do total de 603036reclamações registradas.\n",
    "\n",
    "Os membros da lista não são surpredentes: temos todas as provedoras de telefonia, internet e TV, bem como fabricantes de celular, alguns bancos, grandes distribuídoras de varejo. Um pouco mais surpreendente é o banco de empréstimos (BV) e a seguradora (Cardif) que aparecem entre os 20 primeiros lista."
   ]
  },
  {
   "cell_type": "markdown",
   "metadata": {},
   "source": [
    "Porém, embora muitas reclamações possam não ser boas para uma empresa, é ainda pior e mais fácil de classificar como ṕdio quando as empresas tem muitas reclamações"
   ]
  },
  {
   "cell_type": "code",
   "execution_count": 14,
   "metadata": {
    "collapsed": false
   },
   "outputs": [
    {
     "name": "stdout",
     "output_type": "stream",
     "text": [
      "TELEMAR NORTE LESTE S/A                                  0.008816\n",
      "CAIXA ECONOMICA FEDERAL                                  0.008218\n",
      "SAMSUNG ELETRONICA DA AMAZONIA LTDA                      0.007862\n",
      "BV FINANCEIRA SA CREDITO FINANCIAMENTO E INVESTIMENTO    0.007136\n",
      "RICARDO ELETRO DIVINOPOLIS LTDA                          0.006661\n",
      "NOKIA DO BRASIL TECNOLOGIA LTDA                          0.005914\n",
      "TNL PCS S/A                                              0.005597\n",
      "CLARO S.A.                                               0.005492\n",
      "TELEFONICA BRASIL S/A                                    0.005285\n",
      "CLARO S/A                                                0.005210\n",
      "BANCO SANTANDER (BRASIL) S.A.                            0.005061\n",
      "VIA VAREJO S/A                                           0.004929\n",
      "DIGIBRAS INDUSTRIA DO BRASIL S/A                         0.004788\n",
      "BANCO ITAUCARD S/A                                       0.004788\n",
      "SKY BRASIL SERVICOS LTDA                                 0.004784\n",
      "CAIXA ECONÔMICA FEDERAL                                  0.004780\n",
      "VIA VAREJO S.A                                           0.004775\n",
      "MAGAZINE LUIZA S/A                                       0.004762\n",
      "LOJAS INSINUANTE LTDA                                    0.004744\n",
      "BANCO CRUZEIRO DO SUL S/A                                0.004678\n",
      "Name: strRazaoSocial, dtype: float64\n",
      "Total: 0.11428232231739276\n"
     ]
    }
   ],
   "source": [
    "print(df[df.Atendida == 'N']['strRazaoSocial'].value_counts(normalize=True)[:lim])\n",
    "print(\"Total:\", df[df.Atendida == 'N']['strRazaoSocial'].value_counts(normalize=True)[:lim].sum())"
   ]
  },
  {
   "cell_type": "code",
   "execution_count": 18,
   "metadata": {
    "collapsed": false
   },
   "outputs": [
    {
     "name": "stdout",
     "output_type": "stream",
     "text": [
      "227430\n"
     ]
    }
   ],
   "source": [
    "print(df[df.Atendida == 'N']['Atendida'].count())"
   ]
  },
  {
   "cell_type": "markdown",
   "metadata": {},
   "source": [
    "\"TELEMAR NORTE LESTE S/A\" (uma das subdivisões da Oi) no topo novamente! Indiscutivelmente, quantativamente a empresa mais detestada. Poderia encerrar o relatório por aqui, mas podemos ter mais insights especialmente se quebrarmos essas duas medidas por segmento e por tempo."
   ]
  }
 ],
 "metadata": {
  "kernelspec": {
   "display_name": "Python 3",
   "language": "python",
   "name": "python3"
  },
  "language_info": {
   "codemirror_mode": {
    "name": "ipython",
    "version": 3
   },
   "file_extension": ".py",
   "mimetype": "text/x-python",
   "name": "python",
   "nbconvert_exporter": "python",
   "pygments_lexer": "ipython3",
   "version": "3.6.0"
  }
 },
 "nbformat": 4,
 "nbformat_minor": 2
}
