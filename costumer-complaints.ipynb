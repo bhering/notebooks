{
 "cells": [
  {
   "cell_type": "markdown",
   "metadata": {},
   "source": [
    "# Análise de reclamações"
   ]
  },
  {
   "cell_type": "markdown",
   "metadata": {},
   "source": [
    "Autor: Gabriel Bhering"
   ]
  },
  {
   "cell_type": "code",
   "execution_count": 1,
   "metadata": {
    "collapsed": true
   },
   "outputs": [],
   "source": [
    "import glob\n",
    "import pandas as pd\n",
    "import numpy as np\n",
    "import matplotlib.pyplot as plt\n",
    "import os"
   ]
  },
  {
   "cell_type": "markdown",
   "metadata": {},
   "source": [
    "Os dados são provenientes do [kaggle](https://www.kaggle.com/gerosa/procon), e um [script](https://gist.github.com/bhering/d21097f5b125d65fd8c422d81695d7f7) foi rodado para higieniza-los. O que o script faz é remover algumas incoerencias (como traços no campo de CEP), e apagar campos sem dados que estavam preenchidos com `NULL` ou `Nao se aplica`. Com isso, a biblioteca consegue lidar melhor com os dados brutos. Abaixo estão algumas configurações para otimizar a leitura dos arquivos."
   ]
  },
  {
   "cell_type": "code",
   "execution_count": 2,
   "metadata": {
    "collapsed": true
   },
   "outputs": [],
   "source": [
    "dtypes={\n",
    "    'AnoCalendario': 'float',\n",
    "    'DataArquivamento': 'str',\n",
    "    'DataAbertura': 'str',\n",
    "    'CodigoRegiao': 'float',\n",
    "    'Regiao': 'str',\n",
    "    'UF': 'str',\n",
    "    'strRazaoSocial': 'str',\n",
    "    'strNomeFantasia': 'str',\n",
    "    'Tipo': 'float',\n",
    "    'NumeroCNPJ': 'float',\n",
    "    'RadicalCNPJ': 'float',\n",
    "    'RazaoSocialRFB': 'str',\n",
    "    'NomeFantasiaRFB': 'str',\n",
    "    'CNAEPrincipal': 'float',\n",
    "    'DescCNAEPrincipal': 'str',\n",
    "    'Atendida': 'str',\n",
    "    'CodigoAssunto': 'float',\n",
    "    'DescricaoAssunto': 'str',\n",
    "    'CodigoProblema': 'float',\n",
    "    'DescricaoProblema': 'str',\n",
    "    'SexoConsumidor': 'str',\n",
    "    'FaixaEtariaConsumidor': 'str',\n",
    "    'CEPConsumidor': 'float',\n",
    "}\n",
    "parse_dates=['DataArquivamento', 'DataAbertura']"
   ]
  },
  {
   "cell_type": "markdown",
   "metadata": {},
   "source": [
    "Todos os .csv da pasta são lidos e compilados em um único dataframe `df`..."
   ]
  },
  {
   "cell_type": "code",
   "execution_count": 6,
   "metadata": {
    "collapsed": false
   },
   "outputs": [],
   "source": [
    "dataset_folder='./datasets/costumer_complaints'\n",
    "all_files=glob.glob(os.path.join(dataset_folder,\"*.csv\"))\n",
    "df = pd.concat((pd.read_csv(f, dtype=dtypes, parse_dates=parse_dates) for f in all_files))"
   ]
  }
 ],
 "metadata": {
  "kernelspec": {
   "display_name": "Python 3",
   "language": "python",
   "name": "python3"
  },
  "language_info": {
   "codemirror_mode": {
    "name": "ipython",
    "version": 3
   },
   "file_extension": ".py",
   "mimetype": "text/x-python",
   "name": "python",
   "nbconvert_exporter": "python",
   "pygments_lexer": "ipython3",
   "version": "3.6.0"
  }
 },
 "nbformat": 4,
 "nbformat_minor": 2
}
