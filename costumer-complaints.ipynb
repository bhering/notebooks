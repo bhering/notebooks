{
 "cells": [
  {
   "cell_type": "markdown",
   "metadata": {},
   "source": [
    "# Análise de reclamações\n",
    "Buscamos compreender quais são as empresas mais odiadas.\n",
    "\n",
    "Autor: Gabriel Bhering"
   ]
  },
  {
   "cell_type": "markdown",
   "metadata": {},
   "source": [
    "#### Bibliotecas Utilizadas"
   ]
  },
  {
   "cell_type": "code",
   "execution_count": 1,
   "metadata": {},
   "outputs": [],
   "source": [
    "from glob import glob\n",
    "import pandas as pd\n",
    "import numpy as np\n",
    "import matplotlib.pyplot as plt\n",
    "from os import path"
   ]
  },
  {
   "cell_type": "markdown",
   "metadata": {},
   "source": [
    "Os dados são provenientes do [kaggle](https://www.kaggle.com/gerosa/procon), e um [script](https://gist.github.com/bhering/d21097f5b125d65fd8c422d81695d7f7) foi rodado para higieniza-los. O que o script faz é remover algumas incoerencias (como traços no campo de CEP), e apagar campos sem dados que estavam preenchidos com `NULL` ou `Nao se aplica`. "
   ]
  },
  {
   "cell_type": "markdown",
   "metadata": {},
   "source": [
    "Todos os .csv da pasta são lidos e compilados em um único dataframe `df`..."
   ]
  },
  {
   "cell_type": "code",
   "execution_count": 2,
   "metadata": {},
   "outputs": [],
   "source": [
    "all_files = glob(path.join('./datasets/costumer_complaints',\"*.csv\"))"
   ]
  },
  {
   "cell_type": "code",
   "execution_count": 3,
   "metadata": {},
   "outputs": [],
   "source": [
    "df = pd.concat((pd.read_csv(f) for f in all_files))"
   ]
  },
  {
   "cell_type": "code",
   "execution_count": 4,
   "metadata": {},
   "outputs": [
    {
     "data": {
      "text/html": [
       "<div>\n",
       "<style scoped>\n",
       "    .dataframe tbody tr th:only-of-type {\n",
       "        vertical-align: middle;\n",
       "    }\n",
       "\n",
       "    .dataframe tbody tr th {\n",
       "        vertical-align: top;\n",
       "    }\n",
       "\n",
       "    .dataframe thead th {\n",
       "        text-align: right;\n",
       "    }\n",
       "</style>\n",
       "<table border=\"1\" class=\"dataframe\">\n",
       "  <thead>\n",
       "    <tr style=\"text-align: right;\">\n",
       "      <th></th>\n",
       "      <th>AnoCalendario</th>\n",
       "      <th>DataAbertura</th>\n",
       "      <th>strNomeFantasia</th>\n",
       "      <th>Atendida</th>\n",
       "      <th>DescricaoAssunto</th>\n",
       "      <th>DescricaoProblema</th>\n",
       "    </tr>\n",
       "  </thead>\n",
       "  <tbody>\n",
       "    <tr>\n",
       "      <th>0</th>\n",
       "      <td>2012</td>\n",
       "      <td>2009-09-17 10:02:24.000</td>\n",
       "      <td>SAMSUNG</td>\n",
       "      <td>N</td>\n",
       "      <td>Telefone ( Convencional, Celular, Interfone, E...</td>\n",
       "      <td>Garantia (Abrangência, cobertura, etc.)</td>\n",
       "    </tr>\n",
       "    <tr>\n",
       "      <th>1</th>\n",
       "      <td>2012</td>\n",
       "      <td>2009-09-21 09:01:49.000</td>\n",
       "      <td>AMAZON PC</td>\n",
       "      <td>S</td>\n",
       "      <td>Microcomputador / Produtos de Informática</td>\n",
       "      <td>Garantia (Abrangência, cobertura, etc.)</td>\n",
       "    </tr>\n",
       "    <tr>\n",
       "      <th>2</th>\n",
       "      <td>2012</td>\n",
       "      <td>2009-09-22 09:49:56.000</td>\n",
       "      <td>AON AFFINITY DO BRASIL</td>\n",
       "      <td>N</td>\n",
       "      <td>Seguro</td>\n",
       "      <td>Não pagamento de indenização (seguros em geral)</td>\n",
       "    </tr>\n",
       "    <tr>\n",
       "      <th>3</th>\n",
       "      <td>2012</td>\n",
       "      <td>2009-10-23 15:58:49.000</td>\n",
       "      <td>BOM PRECO</td>\n",
       "      <td>N</td>\n",
       "      <td>Microcomputador / Produtos de Informática</td>\n",
       "      <td>Garantia (Abrangência, cobertura, etc.)</td>\n",
       "    </tr>\n",
       "    <tr>\n",
       "      <th>4</th>\n",
       "      <td>2012</td>\n",
       "      <td>2009-05-15 12:33:24.000</td>\n",
       "      <td>SUDAMERIS</td>\n",
       "      <td>N</td>\n",
       "      <td>Financeira</td>\n",
       "      <td>Cobrança indevida.</td>\n",
       "    </tr>\n",
       "    <tr>\n",
       "      <th>5</th>\n",
       "      <td>2012</td>\n",
       "      <td>2010-02-11 16:35:27.000</td>\n",
       "      <td>NaN</td>\n",
       "      <td>S</td>\n",
       "      <td>Empresa de Cobrança</td>\n",
       "      <td>Cobrança indevida.</td>\n",
       "    </tr>\n",
       "    <tr>\n",
       "      <th>6</th>\n",
       "      <td>2012</td>\n",
       "      <td>2010-03-08 12:25:24.000</td>\n",
       "      <td>NaN</td>\n",
       "      <td>S</td>\n",
       "      <td>Telefone ( Convencional, Celular, Interfone, E...</td>\n",
       "      <td>Falta de peca de reposição</td>\n",
       "    </tr>\n",
       "    <tr>\n",
       "      <th>7</th>\n",
       "      <td>2012</td>\n",
       "      <td>2005-08-11 10:16:23.000</td>\n",
       "      <td>SIEMENS CELULARES</td>\n",
       "      <td>N</td>\n",
       "      <td>Telefone ( Convencional, Celular, Interfone, E...</td>\n",
       "      <td>Falta de peca de reposição</td>\n",
       "    </tr>\n",
       "    <tr>\n",
       "      <th>8</th>\n",
       "      <td>2012</td>\n",
       "      <td>2006-11-07 09:07:41.000</td>\n",
       "      <td>LG</td>\n",
       "      <td>S</td>\n",
       "      <td>Televisão / Vídeo Cassete / Filmadora / Video-...</td>\n",
       "      <td>Garantia (Abrangência, cobertura, etc.)</td>\n",
       "    </tr>\n",
       "    <tr>\n",
       "      <th>9</th>\n",
       "      <td>2012</td>\n",
       "      <td>2010-02-18 16:27:20.000</td>\n",
       "      <td>DAKO / GE</td>\n",
       "      <td>S</td>\n",
       "      <td>Fogão e Microondas</td>\n",
       "      <td>Produto com vício</td>\n",
       "    </tr>\n",
       "  </tbody>\n",
       "</table>\n",
       "</div>"
      ],
      "text/plain": [
       "   AnoCalendario             DataAbertura         strNomeFantasia Atendida  \\\n",
       "0           2012  2009-09-17 10:02:24.000                 SAMSUNG        N   \n",
       "1           2012  2009-09-21 09:01:49.000               AMAZON PC        S   \n",
       "2           2012  2009-09-22 09:49:56.000  AON AFFINITY DO BRASIL        N   \n",
       "3           2012  2009-10-23 15:58:49.000               BOM PRECO        N   \n",
       "4           2012  2009-05-15 12:33:24.000               SUDAMERIS        N   \n",
       "5           2012  2010-02-11 16:35:27.000                     NaN        S   \n",
       "6           2012  2010-03-08 12:25:24.000                     NaN        S   \n",
       "7           2012  2005-08-11 10:16:23.000       SIEMENS CELULARES        N   \n",
       "8           2012  2006-11-07 09:07:41.000                      LG        S   \n",
       "9           2012  2010-02-18 16:27:20.000               DAKO / GE        S   \n",
       "\n",
       "                                    DescricaoAssunto  \\\n",
       "0  Telefone ( Convencional, Celular, Interfone, E...   \n",
       "1          Microcomputador / Produtos de Informática   \n",
       "2                                             Seguro   \n",
       "3          Microcomputador / Produtos de Informática   \n",
       "4                                         Financeira   \n",
       "5                                Empresa de Cobrança   \n",
       "6  Telefone ( Convencional, Celular, Interfone, E...   \n",
       "7  Telefone ( Convencional, Celular, Interfone, E...   \n",
       "8  Televisão / Vídeo Cassete / Filmadora / Video-...   \n",
       "9                                 Fogão e Microondas   \n",
       "\n",
       "                                 DescricaoProblema  \n",
       "0          Garantia (Abrangência, cobertura, etc.)  \n",
       "1          Garantia (Abrangência, cobertura, etc.)  \n",
       "2  Não pagamento de indenização (seguros em geral)  \n",
       "3          Garantia (Abrangência, cobertura, etc.)  \n",
       "4                               Cobrança indevida.  \n",
       "5                               Cobrança indevida.  \n",
       "6                       Falta de peca de reposição  \n",
       "7                       Falta de peca de reposição  \n",
       "8          Garantia (Abrangência, cobertura, etc.)  \n",
       "9                                Produto com vício  "
      ]
     },
     "execution_count": 4,
     "metadata": {},
     "output_type": "execute_result"
    }
   ],
   "source": [
    "df[['AnoCalendario', 'DataAbertura', 'strNomeFantasia', 'Atendida', 'DescricaoAssunto', 'DescricaoProblema']][:10]"
   ]
  },
  {
   "cell_type": "markdown",
   "metadata": {},
   "source": [
    "### Como descrever o quão detestada uma empresa é?\n",
    "Poderiamos simplesmente analisar a quantidade de reclamações por empresa, embora já de cara isto talvez não seja a melhor forma."
   ]
  },
  {
   "cell_type": "code",
   "execution_count": 5,
   "metadata": {},
   "outputs": [
    {
     "data": {
      "text/plain": [
       "OI                0.017773\n",
       "SKY               0.014137\n",
       "CLARO             0.013978\n",
       "OI FIXO           0.011000\n",
       "SAMSUNG           0.009211\n",
       "VIVO              0.008413\n",
       "RICARDO ELETRO    0.008254\n",
       "MOTOROLA          0.007400\n",
       "TIM CELULAR       0.006362\n",
       "CCE               0.005699\n",
       "Name: strNomeFantasia, dtype: float64"
      ]
     },
     "execution_count": 5,
     "metadata": {},
     "output_type": "execute_result"
    }
   ],
   "source": [
    "df['strNomeFantasia'].value_counts(normalize=True)[:10]"
   ]
  }
 ],
 "metadata": {
  "kernelspec": {
   "display_name": "Python 3",
   "language": "python",
   "name": "python3"
  },
  "language_info": {
   "codemirror_mode": {
    "name": "ipython",
    "version": 3
   },
   "file_extension": ".py",
   "mimetype": "text/x-python",
   "name": "python",
   "nbconvert_exporter": "python",
   "pygments_lexer": "ipython3",
   "version": "3.6.4"
  }
 },
 "nbformat": 4,
 "nbformat_minor": 2
}
